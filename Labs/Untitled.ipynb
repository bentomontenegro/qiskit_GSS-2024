{
 "cells": [
  {
   "cell_type": "code",
   "execution_count": 12,
   "id": "8d96f29f-94d8-4411-9bbb-28b997335448",
   "metadata": {},
   "outputs": [
    {
     "data": {
      "text/plain": [
       "array(1.)"
      ]
     },
     "execution_count": 12,
     "metadata": {},
     "output_type": "execute_result"
    }
   ],
   "source": [
    "from qiskit.circuit import QuantumCircuit\n",
    "from qiskit_aer import AerSimulator\n",
    "from qiskit.transpiler.preset_passmanagers import generate_preset_pass_manager\n",
    "from qiskit_ibm_runtime import EstimatorV2 as Estimator\n",
    "from qiskit.quantum_info import SparsePauliOp\n",
    "\n",
    "backend = AerSimulator()\n",
    "estimator = Estimator(mode=backend)\n",
    "pass_manager = generate_preset_pass_manager(optimization_level=2, backend=backend)\n",
    "\n",
    "qc_1 = QuantumCircuit(2)\n",
    "qc_1.h([0, 1])\n",
    "isa_qc_1 = pass_manager.run(qc_1)\n",
    "\n",
    "qc_2 = QuantumCircuit(2)\n",
    "qc_2.h(0)\n",
    "qc_2.cx(0, 1)\n",
    "isa_qc_2 = pass_manager.run(qc_2)\n",
    "\n",
    "obs = SparsePauliOp(data='ZZ', coeffs=1.0)\n",
    "isa_obs_1 = obs.apply_layout(isa_qc_1.layout)\n",
    "isa_obs_2 = obs.apply_layout(isa_qc_2.layout)\n",
    "\n",
    "pub_1 = (isa_qc_1, isa_obs_1)\n",
    "pub_2 = (isa_qc_2, isa_obs_2)\n",
    "\n",
    "job = estimator.run(pubs=[pub_1, pub_2])\n",
    "job.result()[1].data.evs"
   ]
  },
  {
   "cell_type": "code",
   "execution_count": null,
   "id": "70e44cb5-3856-4eb1-a1c7-578bb61d3c6b",
   "metadata": {},
   "outputs": [],
   "source": []
  }
 ],
 "metadata": {
  "kernelspec": {
   "display_name": "Python 3 (ipykernel)",
   "language": "python",
   "name": "python3"
  },
  "language_info": {
   "codemirror_mode": {
    "name": "ipython",
    "version": 3
   },
   "file_extension": ".py",
   "mimetype": "text/x-python",
   "name": "python",
   "nbconvert_exporter": "python",
   "pygments_lexer": "ipython3",
   "version": "3.10.11"
  }
 },
 "nbformat": 4,
 "nbformat_minor": 5
}
